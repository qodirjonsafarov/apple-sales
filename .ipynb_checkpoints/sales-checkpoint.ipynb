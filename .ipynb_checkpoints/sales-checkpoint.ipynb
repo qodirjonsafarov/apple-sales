{
 "cells": [
  {
   "cell_type": "code",
   "execution_count": 1,
   "id": "olive-transaction",
   "metadata": {},
   "outputs": [],
   "source": [
    "import pandas as pd\n",
    "import numpy as np\n",
    "import matplotlib.pyplot as plt"
   ]
  },
  {
   "cell_type": "code",
   "execution_count": 2,
   "id": "remarkable-spirit",
   "metadata": {},
   "outputs": [
    {
     "data": {
      "text/html": [
       "<div>\n",
       "<style scoped>\n",
       "    .dataframe tbody tr th:only-of-type {\n",
       "        vertical-align: middle;\n",
       "    }\n",
       "\n",
       "    .dataframe tbody tr th {\n",
       "        vertical-align: top;\n",
       "    }\n",
       "\n",
       "    .dataframe thead th {\n",
       "        text-align: right;\n",
       "    }\n",
       "</style>\n",
       "<table border=\"1\" class=\"dataframe\">\n",
       "  <thead>\n",
       "    <tr style=\"text-align: right;\">\n",
       "      <th></th>\n",
       "      <th>Configuration</th>\n",
       "      <th>Retail.Price</th>\n",
       "      <th>Screen.Size..Inches.</th>\n",
       "      <th>Battery.Life..Hours.</th>\n",
       "      <th>RAM..GB.</th>\n",
       "      <th>Processor.Speeds..GHz.</th>\n",
       "      <th>Integrated.Wireless.</th>\n",
       "      <th>HD.Size..GB.</th>\n",
       "      <th>Bundled.Applications.</th>\n",
       "      <th>Bought</th>\n",
       "    </tr>\n",
       "  </thead>\n",
       "  <tbody>\n",
       "    <tr>\n",
       "      <th>0</th>\n",
       "      <td>320</td>\n",
       "      <td>545</td>\n",
       "      <td>15</td>\n",
       "      <td>6</td>\n",
       "      <td>1</td>\n",
       "      <td>2</td>\n",
       "      <td>No</td>\n",
       "      <td>300</td>\n",
       "      <td>No</td>\n",
       "      <td>0</td>\n",
       "    </tr>\n",
       "    <tr>\n",
       "      <th>1</th>\n",
       "      <td>23</td>\n",
       "      <td>515</td>\n",
       "      <td>15</td>\n",
       "      <td>4</td>\n",
       "      <td>1</td>\n",
       "      <td>2</td>\n",
       "      <td>Yes</td>\n",
       "      <td>300</td>\n",
       "      <td>Yes</td>\n",
       "      <td>0</td>\n",
       "    </tr>\n",
       "    <tr>\n",
       "      <th>2</th>\n",
       "      <td>169</td>\n",
       "      <td>395</td>\n",
       "      <td>15</td>\n",
       "      <td>5</td>\n",
       "      <td>1</td>\n",
       "      <td>2</td>\n",
       "      <td>No</td>\n",
       "      <td>40</td>\n",
       "      <td>Yes</td>\n",
       "      <td>1</td>\n",
       "    </tr>\n",
       "    <tr>\n",
       "      <th>3</th>\n",
       "      <td>365</td>\n",
       "      <td>585</td>\n",
       "      <td>15</td>\n",
       "      <td>6</td>\n",
       "      <td>2</td>\n",
       "      <td>2</td>\n",
       "      <td>No</td>\n",
       "      <td>120</td>\n",
       "      <td>Yes</td>\n",
       "      <td>1</td>\n",
       "    </tr>\n",
       "    <tr>\n",
       "      <th>4</th>\n",
       "      <td>309</td>\n",
       "      <td>555</td>\n",
       "      <td>15</td>\n",
       "      <td>6</td>\n",
       "      <td>1</td>\n",
       "      <td>2</td>\n",
       "      <td>Yes</td>\n",
       "      <td>120</td>\n",
       "      <td>Yes</td>\n",
       "      <td>0</td>\n",
       "    </tr>\n",
       "  </tbody>\n",
       "</table>\n",
       "</div>"
      ],
      "text/plain": [
       "   Configuration  Retail.Price  Screen.Size..Inches.  Battery.Life..Hours.  \\\n",
       "0            320           545                    15                     6   \n",
       "1             23           515                    15                     4   \n",
       "2            169           395                    15                     5   \n",
       "3            365           585                    15                     6   \n",
       "4            309           555                    15                     6   \n",
       "\n",
       "   RAM..GB. Processor.Speeds..GHz. Integrated.Wireless.  HD.Size..GB.  \\\n",
       "0         1                      2                   No           300   \n",
       "1         1                      2                  Yes           300   \n",
       "2         1                      2                   No            40   \n",
       "3         2                      2                   No           120   \n",
       "4         1                      2                  Yes           120   \n",
       "\n",
       "  Bundled.Applications.  Bought  \n",
       "0                    No       0  \n",
       "1                   Yes       0  \n",
       "2                   Yes       1  \n",
       "3                   Yes       1  \n",
       "4                   Yes       0  "
      ]
     },
     "execution_count": 2,
     "metadata": {},
     "output_type": "execute_result"
    }
   ],
   "source": [
    "df = pd.read_csv('Apple Sales Jan.csv', sep=';')\n",
    "df.head()"
   ]
  },
  {
   "cell_type": "code",
   "execution_count": 3,
   "id": "capital-participation",
   "metadata": {},
   "outputs": [
    {
     "name": "stdout",
     "output_type": "stream",
     "text": [
      "<class 'pandas.core.frame.DataFrame'>\n",
      "RangeIndex: 7951 entries, 0 to 7950\n",
      "Data columns (total 10 columns):\n",
      " #   Column                  Non-Null Count  Dtype \n",
      "---  ------                  --------------  ----- \n",
      " 0   Configuration           7951 non-null   int64 \n",
      " 1   Retail.Price            7951 non-null   int64 \n",
      " 2   Screen.Size..Inches.    7951 non-null   int64 \n",
      " 3   Battery.Life..Hours.    7951 non-null   int64 \n",
      " 4   RAM..GB.                7951 non-null   int64 \n",
      " 5   Processor.Speeds..GHz.  7951 non-null   object\n",
      " 6   Integrated.Wireless.    7951 non-null   object\n",
      " 7   HD.Size..GB.            7951 non-null   int64 \n",
      " 8   Bundled.Applications.   7951 non-null   object\n",
      " 9   Bought                  7951 non-null   int64 \n",
      "dtypes: int64(7), object(3)\n",
      "memory usage: 621.3+ KB\n"
     ]
    }
   ],
   "source": [
    "df.info()"
   ]
  },
  {
   "cell_type": "code",
   "execution_count": 4,
   "id": "funny-binding",
   "metadata": {},
   "outputs": [
    {
     "data": {
      "text/plain": [
       "Configuration             0\n",
       "Retail.Price              0\n",
       "Screen.Size..Inches.      0\n",
       "Battery.Life..Hours.      0\n",
       "RAM..GB.                  0\n",
       "Processor.Speeds..GHz.    0\n",
       "Integrated.Wireless.      0\n",
       "HD.Size..GB.              0\n",
       "Bundled.Applications.     0\n",
       "Bought                    0\n",
       "dtype: int64"
      ]
     },
     "execution_count": 4,
     "metadata": {},
     "output_type": "execute_result"
    }
   ],
   "source": [
    "df.isna().sum()"
   ]
  },
  {
   "cell_type": "code",
   "execution_count": 5,
   "id": "valuable-honduras",
   "metadata": {},
   "outputs": [],
   "source": [
    "df['Integrated.Wireless.'].replace({'Yes': 1, 'No': 0}, inplace=True)\n",
    "df['Bundled.Applications.'].replace({'Yes':1 , 'No': 0}, inplace=True)"
   ]
  },
  {
   "cell_type": "code",
   "execution_count": 6,
   "id": "promotional-village",
   "metadata": {},
   "outputs": [
    {
     "data": {
      "text/html": [
       "<div>\n",
       "<style scoped>\n",
       "    .dataframe tbody tr th:only-of-type {\n",
       "        vertical-align: middle;\n",
       "    }\n",
       "\n",
       "    .dataframe tbody tr th {\n",
       "        vertical-align: top;\n",
       "    }\n",
       "\n",
       "    .dataframe thead th {\n",
       "        text-align: right;\n",
       "    }\n",
       "</style>\n",
       "<table border=\"1\" class=\"dataframe\">\n",
       "  <thead>\n",
       "    <tr style=\"text-align: right;\">\n",
       "      <th></th>\n",
       "      <th>Configuration</th>\n",
       "      <th>Retail.Price</th>\n",
       "      <th>Screen.Size..Inches.</th>\n",
       "      <th>Battery.Life..Hours.</th>\n",
       "      <th>RAM..GB.</th>\n",
       "      <th>Processor.Speeds..GHz.</th>\n",
       "      <th>Integrated.Wireless.</th>\n",
       "      <th>HD.Size..GB.</th>\n",
       "      <th>Bundled.Applications.</th>\n",
       "      <th>Bought</th>\n",
       "    </tr>\n",
       "  </thead>\n",
       "  <tbody>\n",
       "    <tr>\n",
       "      <th>0</th>\n",
       "      <td>320</td>\n",
       "      <td>545</td>\n",
       "      <td>15</td>\n",
       "      <td>6</td>\n",
       "      <td>1</td>\n",
       "      <td>2</td>\n",
       "      <td>0</td>\n",
       "      <td>300</td>\n",
       "      <td>0</td>\n",
       "      <td>0</td>\n",
       "    </tr>\n",
       "    <tr>\n",
       "      <th>1</th>\n",
       "      <td>23</td>\n",
       "      <td>515</td>\n",
       "      <td>15</td>\n",
       "      <td>4</td>\n",
       "      <td>1</td>\n",
       "      <td>2</td>\n",
       "      <td>1</td>\n",
       "      <td>300</td>\n",
       "      <td>1</td>\n",
       "      <td>0</td>\n",
       "    </tr>\n",
       "    <tr>\n",
       "      <th>2</th>\n",
       "      <td>169</td>\n",
       "      <td>395</td>\n",
       "      <td>15</td>\n",
       "      <td>5</td>\n",
       "      <td>1</td>\n",
       "      <td>2</td>\n",
       "      <td>0</td>\n",
       "      <td>40</td>\n",
       "      <td>1</td>\n",
       "      <td>1</td>\n",
       "    </tr>\n",
       "    <tr>\n",
       "      <th>3</th>\n",
       "      <td>365</td>\n",
       "      <td>585</td>\n",
       "      <td>15</td>\n",
       "      <td>6</td>\n",
       "      <td>2</td>\n",
       "      <td>2</td>\n",
       "      <td>0</td>\n",
       "      <td>120</td>\n",
       "      <td>1</td>\n",
       "      <td>1</td>\n",
       "    </tr>\n",
       "    <tr>\n",
       "      <th>4</th>\n",
       "      <td>309</td>\n",
       "      <td>555</td>\n",
       "      <td>15</td>\n",
       "      <td>6</td>\n",
       "      <td>1</td>\n",
       "      <td>2</td>\n",
       "      <td>1</td>\n",
       "      <td>120</td>\n",
       "      <td>1</td>\n",
       "      <td>0</td>\n",
       "    </tr>\n",
       "  </tbody>\n",
       "</table>\n",
       "</div>"
      ],
      "text/plain": [
       "   Configuration  Retail.Price  Screen.Size..Inches.  Battery.Life..Hours.  \\\n",
       "0            320           545                    15                     6   \n",
       "1             23           515                    15                     4   \n",
       "2            169           395                    15                     5   \n",
       "3            365           585                    15                     6   \n",
       "4            309           555                    15                     6   \n",
       "\n",
       "   RAM..GB. Processor.Speeds..GHz.  Integrated.Wireless.  HD.Size..GB.  \\\n",
       "0         1                      2                     0           300   \n",
       "1         1                      2                     1           300   \n",
       "2         1                      2                     0            40   \n",
       "3         2                      2                     0           120   \n",
       "4         1                      2                     1           120   \n",
       "\n",
       "   Bundled.Applications.  Bought  \n",
       "0                      0       0  \n",
       "1                      1       0  \n",
       "2                      1       1  \n",
       "3                      1       1  \n",
       "4                      1       0  "
      ]
     },
     "execution_count": 6,
     "metadata": {},
     "output_type": "execute_result"
    }
   ],
   "source": [
    "df.head()"
   ]
  },
  {
   "cell_type": "code",
   "execution_count": 7,
   "id": "deluxe-hanging",
   "metadata": {},
   "outputs": [
    {
     "data": {
      "text/plain": [
       "<AxesSubplot:ylabel='Frequency'>"
      ]
     },
     "execution_count": 7,
     "metadata": {},
     "output_type": "execute_result"
    },
    {
     "data": {
      "image/png": "[encoded data removed]",
      "text/plain": [
       "<Figure size 720x432 with 1 Axes>"
      ]
     },
     "metadata": {
      "needs_background": "light"
     },
     "output_type": "display_data"
    }
   ],
   "source": [
    "df['Configuration'].plot(kind='hist', ec='black', figsize=(10, 6), bins=100)"
   ]
  },
  {
   "cell_type": "code",
   "execution_count": 73,
   "id": "mounted-arthur",
   "metadata": {},
   "outputs": [
    {
     "data": {
      "text/plain": [
       "<AxesSubplot:ylabel='Frequency'>"
      ]
     },
     "execution_count": 73,
     "metadata": {},
     "output_type": "execute_result"
    },
    {
     "data": {
      "image/png": "[encoded data removed]",
      "text/plain": [
       "<Figure size 720x432 with 1 Axes>"
      ]
     },
     "metadata": {
      "needs_background": "light"
     },
     "output_type": "display_data"
    }
   ],
   "source": [
    "df['Retail.Price'].plot(kind='hist', ec='black', figsize=(10, 6), bins=50)"
   ]
  },
  {
   "cell_type": "code",
   "execution_count": 77,
   "id": "bottom-republican",
   "metadata": {},
   "outputs": [
    {
     "data": {
      "text/html": [
       "<div>\n",
       "<style scoped>\n",
       "    .dataframe tbody tr th:only-of-type {\n",
       "        vertical-align: middle;\n",
       "    }\n",
       "\n",
       "    .dataframe tbody tr th {\n",
       "        vertical-align: top;\n",
       "    }\n",
       "\n",
       "    .dataframe thead th {\n",
       "        text-align: right;\n",
       "    }\n",
       "</style>\n",
       "<table border=\"1\" class=\"dataframe\">\n",
       "  <thead>\n",
       "    <tr style=\"text-align: right;\">\n",
       "      <th></th>\n",
       "      <th>Configuration</th>\n",
       "      <th>Retail.Price</th>\n",
       "      <th>Screen.Size..Inches.</th>\n",
       "      <th>Battery.Life..Hours.</th>\n",
       "      <th>RAM..GB.</th>\n",
       "      <th>Processor.Speeds..GHz.</th>\n",
       "      <th>Integrated.Wireless.</th>\n",
       "      <th>HD.Size..GB.</th>\n",
       "      <th>Bundled.Applications.</th>\n",
       "      <th>Bought</th>\n",
       "    </tr>\n",
       "  </thead>\n",
       "  <tbody>\n",
       "    <tr>\n",
       "      <th>Configuration</th>\n",
       "      <td>1.000000</td>\n",
       "      <td>0.563219</td>\n",
       "      <td>NaN</td>\n",
       "      <td>0.976533</td>\n",
       "      <td>0.121223</td>\n",
       "      <td>0.036933</td>\n",
       "      <td>-0.076581</td>\n",
       "      <td>-0.160171</td>\n",
       "      <td>-0.088563</td>\n",
       "      <td>-0.005284</td>\n",
       "    </tr>\n",
       "    <tr>\n",
       "      <th>Retail.Price</th>\n",
       "      <td>0.563219</td>\n",
       "      <td>1.000000</td>\n",
       "      <td>NaN</td>\n",
       "      <td>0.491383</td>\n",
       "      <td>0.288075</td>\n",
       "      <td>0.151181</td>\n",
       "      <td>0.089042</td>\n",
       "      <td>0.485992</td>\n",
       "      <td>0.285723</td>\n",
       "      <td>-0.001938</td>\n",
       "    </tr>\n",
       "    <tr>\n",
       "      <th>Screen.Size..Inches.</th>\n",
       "      <td>NaN</td>\n",
       "      <td>NaN</td>\n",
       "      <td>NaN</td>\n",
       "      <td>NaN</td>\n",
       "      <td>NaN</td>\n",
       "      <td>NaN</td>\n",
       "      <td>NaN</td>\n",
       "      <td>NaN</td>\n",
       "      <td>NaN</td>\n",
       "      <td>NaN</td>\n",
       "    </tr>\n",
       "    <tr>\n",
       "      <th>Battery.Life..Hours.</th>\n",
       "      <td>0.976533</td>\n",
       "      <td>0.491383</td>\n",
       "      <td>NaN</td>\n",
       "      <td>1.000000</td>\n",
       "      <td>-0.080549</td>\n",
       "      <td>-0.028381</td>\n",
       "      <td>-0.038310</td>\n",
       "      <td>-0.165900</td>\n",
       "      <td>-0.077518</td>\n",
       "      <td>-0.003261</td>\n",
       "    </tr>\n",
       "    <tr>\n",
       "      <th>RAM..GB.</th>\n",
       "      <td>0.121223</td>\n",
       "      <td>0.288075</td>\n",
       "      <td>NaN</td>\n",
       "      <td>-0.080549</td>\n",
       "      <td>1.000000</td>\n",
       "      <td>-0.013841</td>\n",
       "      <td>-0.016224</td>\n",
       "      <td>-0.059442</td>\n",
       "      <td>-0.026362</td>\n",
       "      <td>-0.005950</td>\n",
       "    </tr>\n",
       "    <tr>\n",
       "      <th>Processor.Speeds..GHz.</th>\n",
       "      <td>0.036933</td>\n",
       "      <td>0.151181</td>\n",
       "      <td>NaN</td>\n",
       "      <td>-0.028381</td>\n",
       "      <td>-0.013841</td>\n",
       "      <td>1.000000</td>\n",
       "      <td>-0.009530</td>\n",
       "      <td>-0.024849</td>\n",
       "      <td>-0.012101</td>\n",
       "      <td>-0.003149</td>\n",
       "    </tr>\n",
       "    <tr>\n",
       "      <th>Integrated.Wireless.</th>\n",
       "      <td>-0.076581</td>\n",
       "      <td>0.089042</td>\n",
       "      <td>NaN</td>\n",
       "      <td>-0.038310</td>\n",
       "      <td>-0.016224</td>\n",
       "      <td>-0.009530</td>\n",
       "      <td>1.000000</td>\n",
       "      <td>-0.042420</td>\n",
       "      <td>-0.004352</td>\n",
       "      <td>0.013459</td>\n",
       "    </tr>\n",
       "    <tr>\n",
       "      <th>HD.Size..GB.</th>\n",
       "      <td>-0.160171</td>\n",
       "      <td>0.485992</td>\n",
       "      <td>NaN</td>\n",
       "      <td>-0.165900</td>\n",
       "      <td>-0.059442</td>\n",
       "      <td>-0.024849</td>\n",
       "      <td>-0.042420</td>\n",
       "      <td>1.000000</td>\n",
       "      <td>-0.076063</td>\n",
       "      <td>0.005803</td>\n",
       "    </tr>\n",
       "    <tr>\n",
       "      <th>Bundled.Applications.</th>\n",
       "      <td>-0.088563</td>\n",
       "      <td>0.285723</td>\n",
       "      <td>NaN</td>\n",
       "      <td>-0.077518</td>\n",
       "      <td>-0.026362</td>\n",
       "      <td>-0.012101</td>\n",
       "      <td>-0.004352</td>\n",
       "      <td>-0.076063</td>\n",
       "      <td>1.000000</td>\n",
       "      <td>0.012759</td>\n",
       "    </tr>\n",
       "    <tr>\n",
       "      <th>Bought</th>\n",
       "      <td>-0.005284</td>\n",
       "      <td>-0.001938</td>\n",
       "      <td>NaN</td>\n",
       "      <td>-0.003261</td>\n",
       "      <td>-0.005950</td>\n",
       "      <td>-0.003149</td>\n",
       "      <td>0.013459</td>\n",
       "      <td>0.005803</td>\n",
       "      <td>0.012759</td>\n",
       "      <td>1.000000</td>\n",
       "    </tr>\n",
       "  </tbody>\n",
       "</table>\n",
       "</div>"
      ],
      "text/plain": [
       "                        Configuration  Retail.Price  Screen.Size..Inches.  \\\n",
       "Configuration                1.000000      0.563219                   NaN   \n",
       "Retail.Price                 0.563219      1.000000                   NaN   \n",
       "Screen.Size..Inches.              NaN           NaN                   NaN   \n",
       "Battery.Life..Hours.         0.976533      0.491383                   NaN   \n",
       "RAM..GB.                     0.121223      0.288075                   NaN   \n",
       "Processor.Speeds..GHz.       0.036933      0.151181                   NaN   \n",
       "Integrated.Wireless.        -0.076581      0.089042                   NaN   \n",
       "HD.Size..GB.                -0.160171      0.485992                   NaN   \n",
       "Bundled.Applications.       -0.088563      0.285723                   NaN   \n",
       "Bought                      -0.005284     -0.001938                   NaN   \n",
       "\n",
       "                        Battery.Life..Hours.  RAM..GB.  \\\n",
       "Configuration                       0.976533  0.121223   \n",
       "Retail.Price                        0.491383  0.288075   \n",
       "Screen.Size..Inches.                     NaN       NaN   \n",
       "Battery.Life..Hours.                1.000000 -0.080549   \n",
       "RAM..GB.                           -0.080549  1.000000   \n",
       "Processor.Speeds..GHz.             -0.028381 -0.013841   \n",
       "Integrated.Wireless.               -0.038310 -0.016224   \n",
       "HD.Size..GB.                       -0.165900 -0.059442   \n",
       "Bundled.Applications.              -0.077518 -0.026362   \n",
       "Bought                             -0.003261 -0.005950   \n",
       "\n",
       "                        Processor.Speeds..GHz.  Integrated.Wireless.  \\\n",
       "Configuration                         0.036933             -0.076581   \n",
       "Retail.Price                          0.151181              0.089042   \n",
       "Screen.Size..Inches.                       NaN                   NaN   \n",
       "Battery.Life..Hours.                 -0.028381             -0.038310   \n",
       "RAM..GB.                             -0.013841             -0.016224   \n",
       "Processor.Speeds..GHz.                1.000000             -0.009530   \n",
       "Integrated.Wireless.                 -0.009530              1.000000   \n",
       "HD.Size..GB.                         -0.024849             -0.042420   \n",
       "Bundled.Applications.                -0.012101             -0.004352   \n",
       "Bought                               -0.003149              0.013459   \n",
       "\n",
       "                        HD.Size..GB.  Bundled.Applications.    Bought  \n",
       "Configuration              -0.160171              -0.088563 -0.005284  \n",
       "Retail.Price                0.485992               0.285723 -0.001938  \n",
       "Screen.Size..Inches.             NaN                    NaN       NaN  \n",
       "Battery.Life..Hours.       -0.165900              -0.077518 -0.003261  \n",
       "RAM..GB.                   -0.059442              -0.026362 -0.005950  \n",
       "Processor.Speeds..GHz.     -0.024849              -0.012101 -0.003149  \n",
       "Integrated.Wireless.       -0.042420              -0.004352  0.013459  \n",
       "HD.Size..GB.                1.000000              -0.076063  0.005803  \n",
       "Bundled.Applications.      -0.076063               1.000000  0.012759  \n",
       "Bought                      0.005803               0.012759  1.000000  "
      ]
     },
     "execution_count": 77,
     "metadata": {},
     "output_type": "execute_result"
    }
   ],
   "source": [
    "df.corr()"
   ]
  },
  {
   "cell_type": "code",
   "execution_count": 8,
   "id": "imperial-conservative",
   "metadata": {},
   "outputs": [
    {
     "name": "stdout",
     "output_type": "stream",
     "text": [
      "<class 'pandas.core.frame.DataFrame'>\n",
      "RangeIndex: 7951 entries, 0 to 7950\n",
      "Data columns (total 10 columns):\n",
      " #   Column                  Non-Null Count  Dtype \n",
      "---  ------                  --------------  ----- \n",
      " 0   Configuration           7951 non-null   int64 \n",
      " 1   Retail.Price            7951 non-null   int64 \n",
      " 2   Screen.Size..Inches.    7951 non-null   int64 \n",
      " 3   Battery.Life..Hours.    7951 non-null   int64 \n",
      " 4   RAM..GB.                7951 non-null   int64 \n",
      " 5   Processor.Speeds..GHz.  7951 non-null   object\n",
      " 6   Integrated.Wireless.    7951 non-null   int64 \n",
      " 7   HD.Size..GB.            7951 non-null   int64 \n",
      " 8   Bundled.Applications.   7951 non-null   int64 \n",
      " 9   Bought                  7951 non-null   int64 \n",
      "dtypes: int64(9), object(1)\n",
      "memory usage: 621.3+ KB\n"
     ]
    },
    {
     "data": {
      "image/png": "[encoded data removed]",
      "text/plain": [
       "<Figure size 432x288 with 1 Axes>"
      ]
     },
     "metadata": {},
     "output_type": "display_data"
    }
   ],
   "source": [
    "cnt = df['Bought'].value_counts()\n",
    "plt.pie(cnt)\n",
    "df.info()"
   ]
  },
  {
   "cell_type": "code",
   "execution_count": 9,
   "id": "subject-library",
   "metadata": {},
   "outputs": [
    {
     "data": {
      "text/plain": [
       "1    3976\n",
       "0    3975\n",
       "Name: Bought, dtype: int64"
      ]
     },
     "execution_count": 9,
     "metadata": {},
     "output_type": "execute_result"
    }
   ],
   "source": [
    "cnt"
   ]
  },
  {
   "cell_type": "code",
   "execution_count": 57,
   "id": "returning-flight",
   "metadata": {},
   "outputs": [
    {
     "data": {
      "text/plain": [
       "dtype('int64')"
      ]
     },
     "execution_count": 57,
     "metadata": {},
     "output_type": "execute_result"
    }
   ],
   "source": [
    "from sklearn.preprocessing import LabelEncoder\n",
    "le = LabelEncoder()\n",
    "le.fit(df['Processor.Speeds..GHz.'])\n",
    "df['Processor.Speeds..GHz.'] = le.fit_transform(df['Processor.Speeds..GHz.'])\n",
    "df['Processor.Speeds..GHz.'].dtypes"
   ]
  },
  {
   "cell_type": "code",
   "execution_count": 60,
   "id": "complex-easter",
   "metadata": {},
   "outputs": [],
   "source": [
    "df['Processor.Speeds..GHz.'] = df['Processor.Speeds..GHz.'].astype(str)\n",
    "df['Processor.Speeds..GHz.'] = df['Processor.Speeds..GHz.'].str.replace(',', '.').astype(float)\n",
    "df['Processor.Speeds..GHz.'].dtype\n",
    "y = df['Bought']\n",
    "X = df.drop('Bought', axis=1)\n",
    "from sklearn.model_selection import train_test_split\n",
    "X_tr, x_ts, y_tr, y_ts = train_test_split(X, y, random_state=10, test_size=0.2)"
   ]
  },
  {
   "cell_type": "code",
   "execution_count": 63,
   "id": "aggregate-pledge",
   "metadata": {},
   "outputs": [],
   "source": [
    "from sklearn.ensemble import RandomForestClassifier\n",
    "rndf = RandomForestClassifier()\n",
    "rndf.fit(X_tr, y_tr)\n",
    "y = rndf.predict(x_ts)"
   ]
  },
  {
   "cell_type": "code",
   "execution_count": 79,
   "id": "invalid-pickup",
   "metadata": {},
   "outputs": [
    {
     "name": "stdout",
     "output_type": "stream",
     "text": [
      "              precision    recall  f1-score   support\n",
      "\n",
      "           0       0.50      0.48      0.49       801\n",
      "           1       0.49      0.52      0.50       790\n",
      "\n",
      "    accuracy                           0.50      1591\n",
      "   macro avg       0.50      0.50      0.50      1591\n",
      "weighted avg       0.50      0.50      0.50      1591\n",
      "\n",
      "[[381 420]\n",
      " [383 407]]\n"
     ]
    }
   ],
   "source": [
    "from sklearn.metrics import classification_report, confusion_matrix, silhouette_score\n",
    "print(classification_report(y_ts, y))\n",
    "print(confusion_matrix(y_ts, y))"
   ]
  },
  {
   "cell_type": "code",
   "execution_count": null,
   "id": "realistic-frame",
   "metadata": {},
   "outputs": [],
   "source": [
    "from catboost import CatBoostClassifier\n",
    "clf = CatBoostClassifier(\n",
    "    iterations=10,\n",
    "    #verbose=5,\n",
    ")\n",
    "clf.fit(\n",
    "    X_train, y_train,\n",
    "    cat_features=cat_features,\n",
    "    eval_set=(X_val, y_val),\n",
    ")"
   ]
  }
 ],
 "metadata": {
  "kernelspec": {
   "display_name": "Python 3",
   "language": "python",
   "name": "python3"
  },
  "language_info": {
   "codemirror_mode": {
    "name": "ipython",
    "version": 3
   },
   "file_extension": ".py",
   "mimetype": "text/x-python",
   "name": "python",
   "nbconvert_exporter": "python",
   "pygments_lexer": "ipython3",
   "version": "3.9.6"
  }
 },
 "nbformat": 4,
 "nbformat_minor": 5
}
